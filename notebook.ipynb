{
 "cells": [
  {
   "cell_type": "markdown",
   "metadata": {},
   "source": [
    "# Downloading datasets\n"
   ]
  },
  {
   "cell_type": "markdown",
   "metadata": {},
   "source": [
    "* first i am gonna install kaggle\n",
    "* then i am gonna import the data set to the notebook"
   ]
  },
  {
   "cell_type": "code",
   "execution_count": null,
   "metadata": {},
   "outputs": [],
   "source": [
    "! pip install kaggle\n",
    "! pip install pandas\n",
    "! pip install matplotlib"
   ]
  },
  {
   "cell_type": "code",
   "execution_count": null,
   "metadata": {},
   "outputs": [],
   "source": [
    "! kaggle datasets download -d datafiniti/consumer-reviews-of-amazon-products\n",
    "! kaggle datasets download -d karkavelrajaj/amazon-sales-dataset"
   ]
  },
  {
   "cell_type": "code",
   "execution_count": null,
   "metadata": {},
   "outputs": [],
   "source": [
    "import os\n",
    "import zipfile as zp\n",
    "\n",
    "zip_file_to_extract = [file for file in os.listdir() if file.endswith('.zip')]\n",
    "os.makedirs('dataset', exist_ok=True)\n",
    "\n",
    "for zipFile in zip_file_to_extract:\n",
    "    with zp.ZipFile(zipFile, 'r') as file:\n",
    "        file.extractall('dataset')\n",
    "    os.remove(zipFile)"
   ]
  },
  {
   "cell_type": "markdown",
   "metadata": {},
   "source": [
    "# Prefroming tasks on the datasets\n"
   ]
  },
  {
   "cell_type": "markdown",
   "metadata": {},
   "source": [
    "i am gonna perform 5 tasks on 2 datasets\n",
    "* handling missing values\n",
    "* merging datasets\n",
    "* renaming columns\n",
    "* creating new columns\n",
    "* type conversion"
   ]
  },
  {
   "cell_type": "markdown",
   "metadata": {},
   "source": [
    "! pip install pandas"
   ]
  },
  {
   "cell_type": "code",
   "execution_count": null,
   "metadata": {},
   "outputs": [],
   "source": [
    "import pandas as pd"
   ]
  },
  {
   "cell_type": "markdown",
   "metadata": {},
   "source": []
  },
  {
   "cell_type": "markdown",
   "metadata": {},
   "source": [
    "# Handling Missing Values\n"
   ]
  },
  {
   "cell_type": "markdown",
   "metadata": {},
   "source": [
    "### for Datafiniti_Amazon_Consumer_Reviews_of_Amazon_Products"
   ]
  },
  {
   "cell_type": "code",
   "execution_count": null,
   "metadata": {},
   "outputs": [],
   "source": [
    "Amazon_consumer_review = pd.read_csv('dataset/Datafiniti_Amazon_Consumer_Reviews_of_Amazon_Products.csv')\n",
    "Amazon_consumer_review.isnull().sum()"
   ]
  },
  {
   "cell_type": "markdown",
   "metadata": {},
   "source": [
    "The reviews username was missing so i put the most common name used in the whole column instead"
   ]
  },
  {
   "cell_type": "code",
   "execution_count": null,
   "metadata": {},
   "outputs": [],
   "source": [
    "Amazon_consumer_review['reviews.username'].fillna(Amazon_consumer_review['reviews.username'].value_counts().idxmax(), inplace=True)\n",
    "Amazon_consumer_review.isnull().sum()"
   ]
  },
  {
   "cell_type": "markdown",
   "metadata": {},
   "source": [
    "Now doing the same for reviews title column"
   ]
  },
  {
   "cell_type": "code",
   "execution_count": null,
   "metadata": {},
   "outputs": [],
   "source": [
    "Amazon_consumer_review['reviews.title'].fillna(Amazon_consumer_review['reviews.title'].value_counts().idxmax(), inplace= True)\n",
    "Amazon_consumer_review.isnull().sum()"
   ]
  },
  {
   "cell_type": "markdown",
   "metadata": {},
   "source": [
    "The column reviews.dateAdded and reviews.id  have missing values greater than >5% so i am gonna drop it"
   ]
  },
  {
   "cell_type": "code",
   "execution_count": null,
   "metadata": {},
   "outputs": [],
   "source": [
    "Amazon_consumer_review.drop(['reviews.dateAdded','reviews.id'], axis=1, inplace=True)\n",
    "Amazon_consumer_review.isnull().sum()"
   ]
  },
  {
   "cell_type": "markdown",
   "metadata": {},
   "source": [
    "### For amazon.csv"
   ]
  },
  {
   "cell_type": "code",
   "execution_count": null,
   "metadata": {},
   "outputs": [],
   "source": [
    "amazon = pd.read_csv('dataset/amazon.csv')\n",
    "amazon.info()\n",
    "amazon.isnull().sum()"
   ]
  },
  {
   "cell_type": "markdown",
   "metadata": {},
   "source": [
    "For the amazon list only 2 rows have missing values so its safe to drop them"
   ]
  },
  {
   "cell_type": "code",
   "execution_count": null,
   "metadata": {},
   "outputs": [],
   "source": [
    "amazon.dropna(inplace= True)\n",
    "amazon.isnull().sum()"
   ]
  },
  {
   "cell_type": "markdown",
   "metadata": {},
   "source": [
    "# Merging datasets"
   ]
  },
  {
   "cell_type": "code",
   "execution_count": null,
   "metadata": {},
   "outputs": [],
   "source": [
    "Amazon_consumer_review.info()\n"
   ]
  },
  {
   "cell_type": "code",
   "execution_count": null,
   "metadata": {},
   "outputs": [],
   "source": [
    "amazon.info()"
   ]
  },
  {
   "cell_type": "code",
   "execution_count": null,
   "metadata": {},
   "outputs": [],
   "source": [
    "merge_csv = pd.merge(Amazon_consumer_review, amazon, left_on='id', right_on='product_id', how=\"left\")\n",
    "merge_csv"
   ]
  },
  {
   "cell_type": "code",
   "execution_count": null,
   "metadata": {},
   "outputs": [],
   "source": [
    "merge_csv.to_csv('merged_csv.csv')"
   ]
  },
  {
   "cell_type": "markdown",
   "metadata": {},
   "source": [
    "# Renaming column in dataset\n"
   ]
  },
  {
   "cell_type": "markdown",
   "metadata": {},
   "source": [
    "### Renaming the columns in  Amazon_consumer_review"
   ]
  },
  {
   "cell_type": "code",
   "execution_count": null,
   "metadata": {},
   "outputs": [],
   "source": [
    "column_rename_mapping = {\n",
    "    'id': 'product_id',\n",
    "    'dateAdded': 'product_added_date',\n",
    "    'dateUpdated': 'product_last_updated_date',\n",
    "    'name': 'product_name',\n",
    "    'asins': 'amazon_asin',\n",
    "    'brand': 'brand_name',\n",
    "    'categories': 'product_categories',\n",
    "    'primaryCategories': 'primary_category',\n",
    "    'imageURLs': 'product_image_urls',\n",
    "    'keys': 'product_keys',\n",
    "    'manufacturer': 'manufacturer_name',\n",
    "    'manufacturerNumber': 'manufacturer_part_number',\n",
    "    'reviews.date': 'review_date',\n",
    "    'reviews.dateAdded': 'review_added_date',\n",
    "    'reviews.dateSeen': 'review_last_viewed_date',\n",
    "    'reviews.doRecommend': 'is_recommended',\n",
    "    'reviews.id': 'review_id',\n",
    "    'reviews.numHelpful': 'helpful_votes_count',\n",
    "    'reviews.rating': 'review_rating',\n",
    "    'reviews.sourceURLs': 'review_source_urls'\n",
    "}"
   ]
  },
  {
   "cell_type": "code",
   "execution_count": null,
   "metadata": {},
   "outputs": [],
   "source": [
    "Amazon_consumer_review.rename(columns=column_rename_mapping, inplace=True, errors='ignore')\n",
    "Amazon_consumer_review.info()\n",
    "Amazon_consumer_review.to_csv('renamed amazon consumer review.csv')"
   ]
  },
  {
   "cell_type": "markdown",
   "metadata": {},
   "source": [
    "### Renaming the columns in amazon dataset"
   ]
  },
  {
   "cell_type": "code",
   "execution_count": null,
   "metadata": {},
   "outputs": [],
   "source": [
    "amazon.info()"
   ]
  },
  {
   "cell_type": "code",
   "execution_count": null,
   "metadata": {},
   "outputs": [],
   "source": [
    "column_rename_mapping = {\n",
    "    # Product metadata\n",
    "    'product_id': 'product_id',  # Already good (keep as-is)\n",
    "    'product_name': 'product_name',  # Already clear\n",
    "    'category': 'product_category',\n",
    "    'img_link': 'product_image_url',\n",
    "    'product_link': 'product_page_url',\n",
    "    \n",
    "    # Pricing information\n",
    "    'discounted_price': 'current_price',\n",
    "    'actual_price': 'original_price',\n",
    "    'discount_percentage': 'discount_pct',\n",
    "    \n",
    "    # Ratings/Reviews\n",
    "    'rating': 'average_rating',\n",
    "    'rating_count': 'total_ratings',\n",
    "    'about_product': 'product_description',\n",
    "    \n",
    "    # User/Review metadata\n",
    "    'user_id': 'reviewer_id',\n",
    "    'user_name': 'reviewer_name',\n",
    "    'review_id': 'review_id',  # Already good\n",
    "    'review_title': 'review_title',  # Already clear\n",
    "    'review_content': 'review_text'\n",
    "}"
   ]
  },
  {
   "cell_type": "code",
   "execution_count": null,
   "metadata": {},
   "outputs": [],
   "source": [
    "amazon.rename(columns=column_rename_mapping, inplace=True, errors='ignore')\n",
    "amazon.info()\n",
    "# amazon.to_csv('rename amazon.csv')"
   ]
  },
  {
   "cell_type": "markdown",
   "metadata": {},
   "source": [
    "# Creating New Columns"
   ]
  },
  {
   "cell_type": "markdown",
   "metadata": {},
   "source": [
    "### first doing the Amazon_consumer_review "
   ]
  },
  {
   "cell_type": "markdown",
   "metadata": {},
   "source": [
    "in this i am gonna add column containing the boolean value if the manufacture and the brand is the same value"
   ]
  },
  {
   "cell_type": "code",
   "execution_count": null,
   "metadata": {},
   "outputs": [],
   "source": [
    "Amazon_consumer_review['is manufacture same as brand'] = Amazon_consumer_review['brand_name'].str.lower() == Amazon_consumer_review['manufacturer_name'].str.lower()"
   ]
  },
  {
   "cell_type": "markdown",
   "metadata": {},
   "source": [
    "now i am gonna add a urgent tab where if the rating of the product is lower than 2 it will raise a flag"
   ]
  },
  {
   "cell_type": "code",
   "execution_count": null,
   "metadata": {},
   "outputs": [],
   "source": [
    "Amazon_consumer_review['urgent review'] = (Amazon_consumer_review['review_rating']<=2)"
   ]
  },
  {
   "cell_type": "markdown",
   "metadata": {},
   "source": [
    "now saving the file as a separate csv"
   ]
  },
  {
   "cell_type": "code",
   "execution_count": null,
   "metadata": {},
   "outputs": [],
   "source": [
    "Amazon_consumer_review.to_csv('new columns amazon consumer review.csv')\n",
    "Amazon_consumer_review"
   ]
  },
  {
   "cell_type": "markdown",
   "metadata": {},
   "source": [
    "### Now doing it for amazon"
   ]
  },
  {
   "cell_type": "markdown",
   "metadata": {},
   "source": [
    "adding a column containing the length of te review text"
   ]
  },
  {
   "cell_type": "code",
   "execution_count": null,
   "metadata": {},
   "outputs": [],
   "source": [
    "amazon['review length'] = amazon['review_text'].str.len()"
   ]
  },
  {
   "cell_type": "code",
   "execution_count": null,
   "metadata": {},
   "outputs": [],
   "source": [
    "amazon.info()"
   ]
  },
  {
   "cell_type": "markdown",
   "metadata": {},
   "source": [
    "# Type conversion on Columns"
   ]
  },
  {
   "cell_type": "markdown",
   "metadata": {},
   "source": [
    "### Amazon consumer review"
   ]
  },
  {
   "cell_type": "code",
   "execution_count": null,
   "metadata": {},
   "outputs": [],
   "source": [
    "Amazon_consumer_review.info()"
   ]
  },
  {
   "cell_type": "code",
   "execution_count": null,
   "metadata": {},
   "outputs": [],
   "source": [
    "Amazon_consumer_review['product_id'] =Amazon_consumer_review['product_id'].astype(str)"
   ]
  },
  {
   "cell_type": "markdown",
   "metadata": {},
   "source": [
    "### Amazon"
   ]
  },
  {
   "cell_type": "code",
   "execution_count": null,
   "metadata": {},
   "outputs": [],
   "source": [
    "amazon.info()"
   ]
  },
  {
   "cell_type": "code",
   "execution_count": null,
   "metadata": {},
   "outputs": [],
   "source": [
    "amazon['product_id'] =amazon['product_id'].astype(str)"
   ]
  },
  {
   "cell_type": "code",
   "execution_count": null,
   "metadata": {},
   "outputs": [],
   "source": [
    "amazon.info()"
   ]
  },
  {
   "cell_type": "markdown",
   "id": "36b93ee1",
   "metadata": {},
   "source": [
    "## 📊 Visualization: Distribution of Product Ratings"
   ]
  },
  {
   "cell_type": "code",
   "execution_count": 7,
   "id": "8e463202",
   "metadata": {},
   "outputs": [
    {
     "ename": "ModuleNotFoundError",
     "evalue": "No module named 'seaborn'",
     "output_type": "error",
     "traceback": [
      "\u001b[31m---------------------------------------------------------------------------\u001b[39m",
      "\u001b[31mModuleNotFoundError\u001b[39m                       Traceback (most recent call last)",
      "\u001b[36mCell\u001b[39m\u001b[36m \u001b[39m\u001b[32mIn[7]\u001b[39m\u001b[32m, line 3\u001b[39m\n\u001b[32m      1\u001b[39m \u001b[38;5;28;01mimport\u001b[39;00m\u001b[38;5;250m \u001b[39m\u001b[34;01mpandas\u001b[39;00m\u001b[38;5;250m \u001b[39m\u001b[38;5;28;01mas\u001b[39;00m\u001b[38;5;250m \u001b[39m\u001b[34;01mpd\u001b[39;00m\n\u001b[32m      2\u001b[39m \u001b[38;5;28;01mimport\u001b[39;00m\u001b[38;5;250m \u001b[39m\u001b[34;01mmatplotlib\u001b[39;00m\u001b[34;01m.\u001b[39;00m\u001b[34;01mpyplot\u001b[39;00m\u001b[38;5;250m \u001b[39m\u001b[38;5;28;01mas\u001b[39;00m\u001b[38;5;250m \u001b[39m\u001b[34;01mplt\u001b[39;00m\n\u001b[32m----> \u001b[39m\u001b[32m3\u001b[39m \u001b[38;5;28;01mimport\u001b[39;00m\u001b[38;5;250m \u001b[39m\u001b[34;01mseaborn\u001b[39;00m\u001b[38;5;250m \u001b[39m\u001b[38;5;28;01mas\u001b[39;00m\u001b[38;5;250m \u001b[39m\u001b[34;01msns\u001b[39;00m\n\u001b[32m      4\u001b[39m \u001b[38;5;28;01mimport\u001b[39;00m\u001b[38;5;250m \u001b[39m\u001b[34;01mos\u001b[39;00m\n\u001b[32m      6\u001b[39m \u001b[38;5;66;03m# Load the reviews dataset\u001b[39;00m\n",
      "\u001b[31mModuleNotFoundError\u001b[39m: No module named 'seaborn'"
     ]
    }
   ],
   "source": [
    "\n",
    "import pandas as pd\n",
    "import matplotlib.pyplot as plt\n",
    "import seaborn as sns\n",
    "import os\n",
    "\n",
    "# Load the reviews dataset\n",
    "reviews_file = [file for file in os.listdir('dataset') if 'consumer' in file.lower() and file.endswith('.csv')]\n",
    "if reviews_file:\n",
    "    df = pd.read_csv(os.path.join('dataset', reviews_file[0]))\n",
    "\n",
    "# Drop NA and parse rating column\n",
    "df = df.dropna(subset=['rating'])\n",
    "df['rating'] = pd.to_numeric(df['rating'], errors='coerce')\n",
    "df = df.dropna(subset=['rating'])\n",
    "\n",
    "# Plot rating distribution\n",
    "plt.figure(figsize=(8, 5))\n",
    "sns.countplot(x='rating', data=df, palette='viridis')\n",
    "plt.title('Distribution of Product Ratings')\n",
    "plt.xlabel('Rating')\n",
    "plt.ylabel('Number of Reviews')\n",
    "plt.tight_layout()\n",
    "plt.show()\n"
   ]
  }
 ],
 "metadata": {
  "kernelspec": {
   "display_name": ".venv",
   "language": "python",
   "name": "python3"
  },
  "language_info": {
   "codemirror_mode": {
    "name": "ipython",
    "version": 3
   },
   "file_extension": ".py",
   "mimetype": "text/x-python",
   "name": "python",
   "nbconvert_exporter": "python",
   "pygments_lexer": "ipython3",
   "version": "3.13.2"
  }
 },
 "nbformat": 4,
 "nbformat_minor": 2
}
